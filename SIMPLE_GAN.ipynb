{
  "nbformat": 4,
  "nbformat_minor": 0,
  "metadata": {
    "colab": {
      "provenance": [],
      "private_outputs": true,
      "gpuType": "T4",
      "authorship_tag": "ABX9TyP/cGRr1OGP+86edYeZUUIX",
      "include_colab_link": true
    },
    "kernelspec": {
      "name": "python3",
      "display_name": "Python 3"
    },
    "language_info": {
      "name": "python"
    },
    "accelerator": "GPU"
  },
  "cells": [
    {
      "cell_type": "markdown",
      "metadata": {
        "id": "view-in-github",
        "colab_type": "text"
      },
      "source": [
        "<a href=\"https://colab.research.google.com/github/Sakin101/GANS/blob/main/SIMPLE_GAN.ipynb\" target=\"_parent\"><img src=\"https://colab.research.google.com/assets/colab-badge.svg\" alt=\"Open In Colab\"/></a>"
      ]
    },
    {
      "cell_type": "code",
      "execution_count": null,
      "metadata": {
        "id": "Jo02PRiGqhsO"
      },
      "outputs": [],
      "source": [
        "import torch as th\n",
        "import numpy as np\n",
        "import pandas as pd\n",
        "import torchvision\n",
        "from torch.utils.data import DataLoader\n",
        "import torch.nn as nn\n",
        "from torch.autograd.variable import Variable\n",
        "from torchvision import transforms, datasets\n",
        "from torch.utils.tensorboard import SummaryWriter\n",
        "device='cuda' if th.cuda.is_available() else 'cpu'\n",
        "print(device)"
      ]
    },
    {
      "cell_type": "code",
      "source": [],
      "metadata": {
        "id": "aSUDppjKgkve"
      },
      "execution_count": null,
      "outputs": []
    },
    {
      "cell_type": "code",
      "source": [
        "class Discriminator(nn.Module):\n",
        "  def __init__(self,in_features):\n",
        "    super().__init__()\n",
        "    self.layer=nn.Sequential(\n",
        "        nn.Linear(in_features,128),\n",
        "        nn.ReLU(),\n",
        "        nn.Linear(128,1),\n",
        "        nn.Sigmoid()\n",
        "    )\n",
        "  def forward(self,x):\n",
        "    x=self.layer(x)\n",
        "    return x\n",
        "\n",
        "class Generator(nn.Module):\n",
        "  def __init__(self,z_features,img_dimension):\n",
        "    super().__init__()\n",
        "    self.layer=nn.Sequential(\n",
        "        nn.Linear(z_features,256),\n",
        "        nn.LeakyReLU(0.1),\n",
        "        nn.Linear(256,img_dimension),\n",
        "        nn.Tanh()\n",
        "    )\n",
        "  def forward(self,x):\n",
        "    return self.layer(x)\n"
      ],
      "metadata": {
        "id": "puwHBdhgrLGf"
      },
      "execution_count": null,
      "outputs": []
    },
    {
      "cell_type": "code",
      "source": [
        "from IPython.core.interactiveshell import dis\n",
        "lr=3e-4\n",
        "z_dim=32\n",
        "img_dim=28*28\n",
        "discriminator_loss=nn.BCELoss()\n",
        "generator_loss=nn.L1Loss()\n",
        "batch_size=64\n",
        "epoch=60\n",
        "\n",
        "disc=Discriminator(img_dim).to(device)\n",
        "gen=Generator(z_dim,img_dim).to(device)\n",
        "\n",
        "transforms=torchvision.transforms.Compose([\n",
        "    torchvision.transforms.ToTensor()\n",
        ",torchvision.transforms.Normalize((0.5,),(0.5,))])\n",
        "\n",
        "noise=th.randn(batch_size,z_dim).to(device)\n",
        "dis_optim=th.optim.Adam(disc.parameters(),lr)\n",
        "gen_optim=th.optim.Adam(gen.parameters(),lr)\n",
        "datasets=torchvision.datasets.MNIST(root='datasets/',transform=transforms,download=True)\n",
        "loader=DataLoader(datasets,batch_size=batch_size)\n",
        "epoch=60\n",
        "step=0\n",
        "writer_fake = SummaryWriter(f\"logs/fake\")\n",
        "writer_real = SummaryWriter(f\"logs/real\")\n",
        "\n",
        "# default `log_dir` is \"runs\" - we'll be more specific here\n",
        "writer = SummaryWriter('runs/fashion_mnist_experiment_1')\n",
        "for num_epochs in range(epoch):\n",
        "  for ix,(real,label) in enumerate(loader):\n",
        "    real=real.view(-1,784).to(device)\n",
        "    batch_size=real.shape[0]\n",
        "    noise=th.randn(batch_size,z_dim).to(device)\n",
        "    fake_img=gen(noise)\n",
        "    disc_fake=disc(fake_img)\n",
        "    gen_loss=discriminator_loss(disc_fake,th.zeros_like(disc_fake))\n",
        "    real_disc=disc(real)\n",
        "    real_loss=discriminator_loss(real_disc,th.ones_like(real_disc))\n",
        "\n",
        "    total_loss=(real_loss+gen_loss)/2\n",
        "    disc.zero_grad()\n",
        "    total_loss.backward(retain_graph=True)\n",
        "    dis_optim.step()\n",
        "\n",
        "    output=disc(fake_img)\n",
        "    gen_loss=discriminator_loss(output,th.ones_like(output))\n",
        "    gen.zero_grad()\n",
        "    gen_loss.backward()\n",
        "    gen_optim.step()\n",
        "\n",
        "    if ix == 0:\n",
        "            print(\n",
        "                f\"Epoch [{epoch}/{num_epochs}] Batch {id}/{len(loader)} \\\n",
        "                      Loss D: {total_loss:.4f}, loss G: {gen_loss:.4f}\"\n",
        "            )\n",
        "\n",
        "            with th.no_grad():\n",
        "                fake = gen(noise).reshape(-1, 1, 28, 28)\n",
        "                data = real.reshape(-1, 1, 28, 28)\n",
        "                img_grid_fake = torchvision.utils.make_grid(fake, normalize=True)\n",
        "                img_grid_real = torchvision.utils.make_grid(data, normalize=True)\n",
        "\n",
        "                writer_fake.add_image(\n",
        "                    \"Mnist Fake Images\", img_grid_fake, global_step=step\n",
        "                )\n",
        "                writer_real.add_image(\n",
        "                    \"Mnist Real Images\", img_grid_real, global_step=step\n",
        "                )\n",
        "                step += 1\n",
        "\n"
      ],
      "metadata": {
        "id": "3YDB0ejBo6At"
      },
      "execution_count": null,
      "outputs": []
    },
    {
      "cell_type": "code",
      "source": [
        "%load_ext tensorboard\n",
        "\n",
        "%tensorboard --logdir /content/logs/fake\n"
      ],
      "metadata": {
        "id": "3_Iuxzrirbsq"
      },
      "execution_count": null,
      "outputs": []
    },
    {
      "cell_type": "code",
      "source": [
        "\n"
      ],
      "metadata": {
        "id": "5I68s_gYM8he"
      },
      "execution_count": null,
      "outputs": []
    }
  ]
}