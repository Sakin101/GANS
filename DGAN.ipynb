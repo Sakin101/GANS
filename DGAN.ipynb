{
  "nbformat": 4,
  "nbformat_minor": 0,
  "metadata": {
    "colab": {
      "provenance": [],
      "gpuType": "T4",
      "authorship_tag": "ABX9TyMMtEH58ifBaRhX+pq2LYTD",
      "include_colab_link": true
    },
    "kernelspec": {
      "name": "python3",
      "display_name": "Python 3"
    },
    "language_info": {
      "name": "python"
    },
    "accelerator": "GPU"
  },
  "cells": [
    {
      "cell_type": "markdown",
      "metadata": {
        "id": "view-in-github",
        "colab_type": "text"
      },
      "source": [
        "<a href=\"https://colab.research.google.com/github/Sakin101/GANS/blob/main/DGAN.ipynb\" target=\"_parent\"><img src=\"https://colab.research.google.com/assets/colab-badge.svg\" alt=\"Open In Colab\"/></a>"
      ]
    },
    {
      "cell_type": "code",
      "execution_count": null,
      "metadata": {
        "colab": {
          "base_uri": "https://localhost:8080/"
        },
        "id": "7UM5CN34L2-J",
        "outputId": "dbeca1f2-c695-4759-a1da-fa5727c4917e"
      },
      "outputs": [
        {
          "output_type": "stream",
          "name": "stdout",
          "text": [
            "cuda\n"
          ]
        }
      ],
      "source": [
        "import torch as th\n",
        "import numpy as np\n",
        "import pandas as pd\n",
        "import torchvision\n",
        "from torch.utils.data import DataLoader\n",
        "import torch.nn as nn\n",
        "from torch.autograd.variable import Variable\n",
        "from torchvision import transforms, datasets\n",
        "from torch.utils.tensorboard import SummaryWriter\n",
        "device='cuda' if th.cuda.is_available() else 'cpu'\n",
        "print(device)"
      ]
    },
    {
      "cell_type": "code",
      "source": [
        "class Discriminator(nn.Module):\n",
        "  def __init__(self,in_feature,out_feature):\n",
        "    super().__init__()\n",
        "    self.dis=nn.Sequential(\n",
        "        nn.Conv2d(in_feature, out_feature, 4, 2, 1, bias=False),\n",
        "        nn.LeakyReLU(0.2, inplace=True),\n",
        "        nn.Conv2d(out_feature, out_feature * 2, 4, 2, 1, bias=False),\n",
        "        nn.BatchNorm2d(out_feature * 2),\n",
        "        nn.LeakyReLU(0.2, inplace=True),\n",
        "        nn.Conv2d(out_feature * 2, out_feature * 4, 4, 2, 1, bias=False),\n",
        "        nn.BatchNorm2d(out_feature * 4),\n",
        "        nn.LeakyReLU(0.2, inplace=True),\n",
        "        nn.Conv2d(out_feature * 4, out_feature * 8, 4, 2, 1, bias=False),\n",
        "        nn.BatchNorm2d(out_feature * 8),\n",
        "        nn.LeakyReLU(0.2, inplace=True),\n",
        "        nn.Conv2d(out_feature * 8, 1, 4, 1, 0, bias=False),\n",
        "        nn.Sigmoid()\n",
        "    )\n",
        "  def forward(self,x):\n",
        "    return self.dis(x)\n",
        "\n",
        "class Generator(nn.Module):\n",
        "  def __init__(self,noise_dim,in_feature,out_feature,img_channel):\n",
        "      super(Generator,self).__init__()\n",
        "      self.gene=nn.Sequential(\n",
        "          nn.ConvTranspose2d(in_feature,out_feature*8,4,1,0),\n",
        "          nn.BatchNorm2d(out_feature*8),\n",
        "          nn.ReLU(),\n",
        "          nn.ConvTranspose2d(out_feature*8,out_feature*4,4,2,1),\n",
        "          nn.BatchNorm2d(out_feature*4),\n",
        "          nn.ReLU(),\n",
        "          nn.ConvTranspose2d(out_feature*4,out_feature*2,4,2,1),\n",
        "          nn.BatchNorm2d(out_feature*2),\n",
        "          nn.ReLU(),\n",
        "        nn.ConvTranspose2d(out_feature*2,out_feature,4,2,1),\n",
        "          nn.BatchNorm2d(out_feature),\n",
        "          nn.ReLU(),\n",
        "          nn.ConvTranspose2d(out_feature,1,4,2,1),\n",
        "          nn.Tanh()\n",
        "          # self.get_block(100,out_feature*8,1,4),\n",
        "          # self.get_block(out_feature*8,out_feature*4,2,4,1,False),\n",
        "          # self.get_block(out_feature*4,out_feature*2,2,4,1,False),\n",
        "          # self.get_block(out_feature*2,out_feature,  2,4,1,False),\n",
        "          # self.get_block(out_feature,img_channel,2,4,1,True),\n",
        "\n",
        "      )\n",
        "  def get_block(in_feature,out_feature,stride,kernel,padding=0,final_layer=False):\n",
        "    if(not final_layer):\n",
        "      return nn.Sequential(\n",
        "          nn.ConvTranspose2d(in_feature,out_feature,kernel,stride,padding),\n",
        "          nn.BatchNorm2d(out_feature),\n",
        "          nn.LeakyReLU(0.2)\n",
        "      )\n",
        "    else:\n",
        "      return nn.Sequential(\n",
        "          nn.ConvTranspose2d(in_feature,out_feature,kernel,stride,padding),\n",
        "          nn.Tanh()\n",
        "      )\n",
        "  def forward(self,x):\n",
        "      return self.gene(x)\n",
        "\n",
        "\n"
      ],
      "metadata": {
        "id": "z6YjqFx5Mrs6"
      },
      "execution_count": null,
      "outputs": []
    },
    {
      "cell_type": "code",
      "source": [
        "transform=transforms.Compose([\n",
        "                              transforms.Resize(64),\n",
        "\n",
        "                               transforms.ToTensor(),\n",
        "\n",
        "                               transforms.Normalize((0.5),(0.5)),\n",
        "                           ])\n",
        "datasets=torchvision.datasets.CelebA(root='datasets/',transform=transform,download=True)\n"
      ],
      "metadata": {
        "colab": {
          "base_uri": "https://localhost:8080/",
          "height": 345
        },
        "id": "9wIkzmXGZGvT",
        "outputId": "1f09394f-9633-4f5b-cd43-6285df894518"
      },
      "execution_count": null,
      "outputs": [
        {
          "output_type": "error",
          "ename": "RuntimeError",
          "evalue": "ignored",
          "traceback": [
            "\u001b[0;31m---------------------------------------------------------------------------\u001b[0m",
            "\u001b[0;31mRuntimeError\u001b[0m                              Traceback (most recent call last)",
            "\u001b[0;32m<ipython-input-3-7fc7b716ebad>\u001b[0m in \u001b[0;36m<cell line: 8>\u001b[0;34m()\u001b[0m\n\u001b[1;32m      6\u001b[0m                                \u001b[0mtransforms\u001b[0m\u001b[0;34m.\u001b[0m\u001b[0mNormalize\u001b[0m\u001b[0;34m(\u001b[0m\u001b[0;34m(\u001b[0m\u001b[0;36m0.5\u001b[0m\u001b[0;34m)\u001b[0m\u001b[0;34m,\u001b[0m\u001b[0;34m(\u001b[0m\u001b[0;36m0.5\u001b[0m\u001b[0;34m)\u001b[0m\u001b[0;34m)\u001b[0m\u001b[0;34m,\u001b[0m\u001b[0;34m\u001b[0m\u001b[0;34m\u001b[0m\u001b[0m\n\u001b[1;32m      7\u001b[0m                            ])\n\u001b[0;32m----> 8\u001b[0;31m \u001b[0mdatasets\u001b[0m\u001b[0;34m=\u001b[0m\u001b[0mtorchvision\u001b[0m\u001b[0;34m.\u001b[0m\u001b[0mdatasets\u001b[0m\u001b[0;34m.\u001b[0m\u001b[0mCelebA\u001b[0m\u001b[0;34m(\u001b[0m\u001b[0mroot\u001b[0m\u001b[0;34m=\u001b[0m\u001b[0;34m'datasets/'\u001b[0m\u001b[0;34m,\u001b[0m\u001b[0mtransform\u001b[0m\u001b[0;34m=\u001b[0m\u001b[0mtransform\u001b[0m\u001b[0;34m,\u001b[0m\u001b[0mdownload\u001b[0m\u001b[0;34m=\u001b[0m\u001b[0;32mTrue\u001b[0m\u001b[0;34m)\u001b[0m\u001b[0;34m\u001b[0m\u001b[0;34m\u001b[0m\u001b[0m\n\u001b[0m",
            "\u001b[0;32m/usr/local/lib/python3.10/dist-packages/torchvision/datasets/celeba.py\u001b[0m in \u001b[0;36m__init__\u001b[0;34m(self, root, split, target_type, transform, target_transform, download)\u001b[0m\n\u001b[1;32m     78\u001b[0m \u001b[0;34m\u001b[0m\u001b[0m\n\u001b[1;32m     79\u001b[0m         \u001b[0;32mif\u001b[0m \u001b[0mdownload\u001b[0m\u001b[0;34m:\u001b[0m\u001b[0;34m\u001b[0m\u001b[0;34m\u001b[0m\u001b[0m\n\u001b[0;32m---> 80\u001b[0;31m             \u001b[0mself\u001b[0m\u001b[0;34m.\u001b[0m\u001b[0mdownload\u001b[0m\u001b[0;34m(\u001b[0m\u001b[0;34m)\u001b[0m\u001b[0;34m\u001b[0m\u001b[0;34m\u001b[0m\u001b[0m\n\u001b[0m\u001b[1;32m     81\u001b[0m \u001b[0;34m\u001b[0m\u001b[0m\n\u001b[1;32m     82\u001b[0m         \u001b[0;32mif\u001b[0m \u001b[0;32mnot\u001b[0m \u001b[0mself\u001b[0m\u001b[0;34m.\u001b[0m\u001b[0m_check_integrity\u001b[0m\u001b[0;34m(\u001b[0m\u001b[0;34m)\u001b[0m\u001b[0;34m:\u001b[0m\u001b[0;34m\u001b[0m\u001b[0;34m\u001b[0m\u001b[0m\n",
            "\u001b[0;32m/usr/local/lib/python3.10/dist-packages/torchvision/datasets/celeba.py\u001b[0m in \u001b[0;36mdownload\u001b[0;34m(self)\u001b[0m\n\u001b[1;32m    148\u001b[0m \u001b[0;34m\u001b[0m\u001b[0m\n\u001b[1;32m    149\u001b[0m         \u001b[0;32mfor\u001b[0m \u001b[0;34m(\u001b[0m\u001b[0mfile_id\u001b[0m\u001b[0;34m,\u001b[0m \u001b[0mmd5\u001b[0m\u001b[0;34m,\u001b[0m \u001b[0mfilename\u001b[0m\u001b[0;34m)\u001b[0m \u001b[0;32min\u001b[0m \u001b[0mself\u001b[0m\u001b[0;34m.\u001b[0m\u001b[0mfile_list\u001b[0m\u001b[0;34m:\u001b[0m\u001b[0;34m\u001b[0m\u001b[0;34m\u001b[0m\u001b[0m\n\u001b[0;32m--> 150\u001b[0;31m             \u001b[0mdownload_file_from_google_drive\u001b[0m\u001b[0;34m(\u001b[0m\u001b[0mfile_id\u001b[0m\u001b[0;34m,\u001b[0m \u001b[0mos\u001b[0m\u001b[0;34m.\u001b[0m\u001b[0mpath\u001b[0m\u001b[0;34m.\u001b[0m\u001b[0mjoin\u001b[0m\u001b[0;34m(\u001b[0m\u001b[0mself\u001b[0m\u001b[0;34m.\u001b[0m\u001b[0mroot\u001b[0m\u001b[0;34m,\u001b[0m \u001b[0mself\u001b[0m\u001b[0;34m.\u001b[0m\u001b[0mbase_folder\u001b[0m\u001b[0;34m)\u001b[0m\u001b[0;34m,\u001b[0m \u001b[0mfilename\u001b[0m\u001b[0;34m,\u001b[0m \u001b[0mmd5\u001b[0m\u001b[0;34m)\u001b[0m\u001b[0;34m\u001b[0m\u001b[0;34m\u001b[0m\u001b[0m\n\u001b[0m\u001b[1;32m    151\u001b[0m \u001b[0;34m\u001b[0m\u001b[0m\n\u001b[1;32m    152\u001b[0m         \u001b[0mextract_archive\u001b[0m\u001b[0;34m(\u001b[0m\u001b[0mos\u001b[0m\u001b[0;34m.\u001b[0m\u001b[0mpath\u001b[0m\u001b[0;34m.\u001b[0m\u001b[0mjoin\u001b[0m\u001b[0;34m(\u001b[0m\u001b[0mself\u001b[0m\u001b[0;34m.\u001b[0m\u001b[0mroot\u001b[0m\u001b[0;34m,\u001b[0m \u001b[0mself\u001b[0m\u001b[0;34m.\u001b[0m\u001b[0mbase_folder\u001b[0m\u001b[0;34m,\u001b[0m \u001b[0;34m\"img_align_celeba.zip\"\u001b[0m\u001b[0;34m)\u001b[0m\u001b[0;34m)\u001b[0m\u001b[0;34m\u001b[0m\u001b[0;34m\u001b[0m\u001b[0m\n",
            "\u001b[0;32m/usr/local/lib/python3.10/dist-packages/torchvision/datasets/utils.py\u001b[0m in \u001b[0;36mdownload_file_from_google_drive\u001b[0;34m(file_id, root, filename, md5)\u001b[0m\n\u001b[1;32m    244\u001b[0m \u001b[0;34m\u001b[0m\u001b[0m\n\u001b[1;32m    245\u001b[0m         \u001b[0;32mif\u001b[0m \u001b[0mapi_response\u001b[0m \u001b[0;34m==\u001b[0m \u001b[0;34m\"Quota exceeded\"\u001b[0m\u001b[0;34m:\u001b[0m\u001b[0;34m\u001b[0m\u001b[0;34m\u001b[0m\u001b[0m\n\u001b[0;32m--> 246\u001b[0;31m             raise RuntimeError(\n\u001b[0m\u001b[1;32m    247\u001b[0m                 \u001b[0;34mf\"The daily quota of the file {filename} is exceeded and it \"\u001b[0m\u001b[0;34m\u001b[0m\u001b[0;34m\u001b[0m\u001b[0m\n\u001b[1;32m    248\u001b[0m                 \u001b[0;34mf\"can't be downloaded. This is a limitation of Google Drive \"\u001b[0m\u001b[0;34m\u001b[0m\u001b[0;34m\u001b[0m\u001b[0m\n",
            "\u001b[0;31mRuntimeError\u001b[0m: The daily quota of the file img_align_celeba.zip is exceeded and it can't be downloaded. This is a limitation of Google Drive and can only be overcome by trying again later."
          ]
        }
      ]
    },
    {
      "cell_type": "code",
      "source": [
        "lr=0.0002\n",
        "z_dim=100\n",
        "img_dim=28*28\n",
        "discriminator_loss=nn.BCELoss()\n",
        "generator_loss=nn.L1Loss()\n",
        "batch_size=32\n",
        "\n",
        "disc=Discriminator(1,64).to(device)\n",
        "gen=Generator(z_dim,100,64,1).to(device)\n",
        "\n",
        "\n",
        "noise=th.randn(batch_size,z_dim).to(device)\n",
        "dis_optim=th.optim.Adam(disc.parameters(),lr,betas=(0.5, 0.9))\n",
        "gen_optim=th.optim.Adam(gen.parameters(),lr,betas=(0.5, 0.9))\n",
        "\n",
        "loader=DataLoader(datasets,batch_size=batch_size)\n",
        "print(loader)\n",
        "epoch=5\n",
        "step=0\n",
        "writer_fake = SummaryWriter(f\"logs/fake\")\n",
        "writer_real = SummaryWriter(f\"logs/real\")\n",
        "\n",
        "# default `log_dir` is \"runs\" - we'll be more specific here\n",
        "writer = SummaryWriter('runs/fashion_mnist_experiment_1')\n",
        "for num_epochs in range(epoch):\n",
        "  for ix,(real,lable) in enumerate(loader):\n",
        "    real=real.to(device)\n",
        "    batch_size=real.shape[0]\n",
        "    noise=th.randn(batch_size,z_dim,1,1).to(device)\n",
        "    fake_img=gen(noise)\n",
        "    disc_fake=disc(fake_img).view(-1)\n",
        "    gen_loss=discriminator_loss(disc_fake,th.zeros_like(disc_fake))\n",
        "    real_disc=disc(real)\n",
        "    real_loss=discriminator_loss(real_disc,th.ones_like(real_disc))\n",
        "\n",
        "    total_loss=(real_loss+gen_loss)/2\n",
        "    disc.zero_grad()\n",
        "    total_loss.backward(retain_graph=True)\n",
        "    dis_optim.step()\n",
        "\n",
        "    output=disc(fake_img)\n",
        "    gen_loss=discriminator_loss(output,th.ones_like(output))\n",
        "    gen.zero_grad()\n",
        "    gen_loss.backward()\n",
        "    gen_optim.step()\n",
        "\n",
        "    if ix == 0:\n",
        "            print(\n",
        "                f\"Epoch [{epoch}/{num_epochs}] Batch {id}/{len(loader)} \\\n",
        "                      Loss D: {total_loss:.4f}, loss G: {gen_loss:.4f}\"\n",
        "            )\n",
        "\n",
        "            with th.no_grad():\n",
        "                fake = gen(noise)\n",
        "                img_grid_fake = torchvision.utils.make_grid(fake, normalize=True)\n",
        "\n",
        "\n",
        "                writer_fake.add_image(\n",
        "                    \"Mnist Fake Images\", img_grid_fake, global_step=step\n",
        "                )\n",
        "\n",
        "                step += 1\n",
        "\n"
      ],
      "metadata": {
        "id": "K3evp_po3DAC"
      },
      "execution_count": null,
      "outputs": []
    },
    {
      "cell_type": "code",
      "source": [
        "%load_ext tensorboard\n",
        "\n",
        "%tensorboard --logdir /content/logs/fake\n"
      ],
      "metadata": {
        "id": "TmgnAc4pZEaf"
      },
      "execution_count": null,
      "outputs": []
    },
    {
      "cell_type": "code",
      "source": [],
      "metadata": {
        "id": "k7CV5wYipCxg"
      },
      "execution_count": null,
      "outputs": []
    }
  ]
}